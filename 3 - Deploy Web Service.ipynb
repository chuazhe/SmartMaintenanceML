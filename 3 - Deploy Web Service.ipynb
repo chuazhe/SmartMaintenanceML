{
 "cells": [
  {
   "cell_type": "code",
   "execution_count": 8,
   "metadata": {},
   "outputs": [],
   "source": [
    "# import required azure library\n",
    "from azureml.core.model import Model\n",
    "from azureml.core import Workspace\n",
    "from azureml.core.resource_configuration import ResourceConfiguration\n",
    "from azureml.core import Webservice\n",
    "from azureml.exceptions import WebserviceException"
   ]
  },
  {
   "cell_type": "code",
   "execution_count": 3,
   "metadata": {},
   "outputs": [
    {
     "name": "stdout",
     "output_type": "stream",
     "text": [
      "SmartMaintenanceML\n",
      "SmartMaintenance\n",
      "southeastasia\n",
      "b4d04108-3c31-47f2-8e5b-518085dff074\n"
     ]
    }
   ],
   "source": [
    "# load workspace configuration from the config.json file in the current folder.\n",
    "ws = Workspace.from_config()\n",
    "print(ws.name, ws.resource_group, ws.location, ws.subscription_id, sep='\\n')"
   ]
  },
  {
   "cell_type": "code",
   "execution_count": 9,
   "metadata": {},
   "outputs": [
    {
     "name": "stdout",
     "output_type": "stream",
     "text": [
      "Registering model Test\n"
     ]
    }
   ],
   "source": [
    "# Register the model into Azure Machine Learning\n",
    "model = Model.register(model_path = \"./linreg_model.pkl\",\n",
    "                       model_name = \"Test\",\n",
    "                       model_framework=Model.Framework.SCIKITLEARN,\n",
    "                       description = \"Test 2\",\n",
    "                       workspace = ws)"
   ]
  },
  {
   "cell_type": "markdown",
   "metadata": {},
   "source": [
    "Deploy the model in ml.azure.com\n",
    "\n",
    "# Azure Kubernetes Service (AKS)\t\n",
    "Real-time inference\tYes (web service deployment)\t\t\n",
    "- Use for high-scale production deployments. Provides fast response time and autoscaling of the deployed service. Cluster autoscaling isn't supported through the Azure Machine Learning SDK. To change the nodes in the AKS cluster, use the UI for your AKS cluster in the Azure portal. AKS is the only option available for the designer.\n",
    "\n",
    "# Azure Container (ACI)\n",
    "Instances\tTesting or development\t \t \t\n",
    "- Use for low-scale CPU-based workloads that require less than 48 GB of RAM.\n",
    "\n",
    "<br/>\n",
    "\n",
    "Choose\n",
    "Compute Type\n",
    "- ACI\n",
    "- Disable authentication\n",
    "\n",
    "Wait for REST endpoint <br/>\n",
    "Send a POST request in Postman to test it\n"
   ]
  },
  {
   "cell_type": "code",
   "execution_count": null,
   "metadata": {},
   "outputs": [],
   "source": []
  }
 ],
 "metadata": {
  "kernelspec": {
   "display_name": "Python 3",
   "language": "python",
   "name": "python3"
  },
  "language_info": {
   "codemirror_mode": {
    "name": "ipython",
    "version": 3
   },
   "file_extension": ".py",
   "mimetype": "text/x-python",
   "name": "python",
   "nbconvert_exporter": "python",
   "pygments_lexer": "ipython3",
   "version": "3.7.1"
  }
 },
 "nbformat": 4,
 "nbformat_minor": 2
}
